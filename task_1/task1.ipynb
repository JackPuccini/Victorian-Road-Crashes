{
 "cells": [
  {
   "cell_type": "markdown",
   "metadata": {},
   "source": [
    "# Task 1 Analytical Questions"
   ]
  },
  {
   "cell_type": "markdown",
   "metadata": {},
   "source": [
    "### 1\n",
    "\n",
    "Age Group Analysis - specifically, answer the question \"Which age group shows the most risky behaviour regarding seatbelt use?\" Justify your answer using the bar chart results."
   ]
  },
  {
   "cell_type": "markdown",
   "metadata": {},
   "source": [
    "### 2\n",
    "\n",
    "Vehicle User Group Analysis - specifically, answer the question \"Which vehicle user group (of drivers, front-seat passengers, or rear-seat passengers) exhibits the most risky behaviour?\" Justify your answer using the pie charts."
   ]
  }
 ],
 "metadata": {
  "language_info": {
   "name": "python"
  }
 },
 "nbformat": 4,
 "nbformat_minor": 2
}
